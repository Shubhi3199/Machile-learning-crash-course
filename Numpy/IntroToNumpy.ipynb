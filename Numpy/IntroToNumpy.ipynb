{
 "cells": [
  {
   "cell_type": "code",
   "execution_count": 16,
   "metadata": {},
   "outputs": [],
   "source": [
    "import numpy as np\n",
    "import pandas as pd"
   ]
  },
  {
   "cell_type": "code",
   "execution_count": 2,
   "metadata": {},
   "outputs": [],
   "source": [
    "randomMatrix = np.random.randint(0, 10, (3, 5))"
   ]
  },
  {
   "cell_type": "code",
   "execution_count": 4,
   "metadata": {},
   "outputs": [
    {
     "data": {
      "text/plain": [
       "array([[2, 7, 4, 3, 1],\n",
       "       [7, 0, 1, 8, 8],\n",
       "       [6, 5, 4, 0, 5]])"
      ]
     },
     "execution_count": 4,
     "metadata": {},
     "output_type": "execute_result"
    }
   ],
   "source": [
    "randomMatrix"
   ]
  },
  {
   "cell_type": "code",
   "execution_count": 11,
   "metadata": {},
   "outputs": [
    {
     "data": {
      "text/plain": [
       "array([[5.00573338, 0.27215297],\n",
       "       [0.91043642, 6.37567526],\n",
       "       [8.17445553, 9.37462084],\n",
       "       [3.89424781, 8.79880419],\n",
       "       [0.1007034 , 3.67847793]])"
      ]
     },
     "execution_count": 11,
     "metadata": {},
     "output_type": "execute_result"
    }
   ],
   "source": [
    "random2 = np.random.ranf(10)*10\n",
    "random2.reshape(5,2)"
   ]
  },
  {
   "cell_type": "code",
   "execution_count": 12,
   "metadata": {},
   "outputs": [],
   "source": [
    "random3 = np.random.seed?"
   ]
  },
  {
   "cell_type": "code",
   "execution_count": 19,
   "metadata": {},
   "outputs": [
    {
     "data": {
      "text/plain": [
       "array([[0, 3, 8, 6, 4],\n",
       "       [2, 9, 7, 5, 7],\n",
       "       [5, 6, 6, 7, 0],\n",
       "       [4, 0, 3, 5, 4],\n",
       "       [3, 2, 0, 6, 0]])"
      ]
     },
     "execution_count": 19,
     "metadata": {},
     "output_type": "execute_result"
    }
   ],
   "source": [
    "random3 = np.random.randint(10, size = (5, 5))\n",
    "random3"
   ]
  },
  {
   "cell_type": "code",
   "execution_count": 20,
   "metadata": {},
   "outputs": [
    {
     "data": {
      "text/plain": [
       "array([0, 2, 3, 4, 5, 6, 7, 8, 9])"
      ]
     },
     "execution_count": 20,
     "metadata": {},
     "output_type": "execute_result"
    }
   ],
   "source": [
    "np.unique(random3)"
   ]
  },
  {
   "cell_type": "code",
   "execution_count": 21,
   "metadata": {},
   "outputs": [],
   "source": [
    "a3 = np.array([[[1, 2, 3],\n",
    "                [4, 5, 6],\n",
    "                [7, 8, 9]],\n",
    "               [[10, 11, 12],\n",
    "                [13, 14, 15],\n",
    "                [16, 17, 18]]])"
   ]
  },
  {
   "cell_type": "code",
   "execution_count": 25,
   "metadata": {},
   "outputs": [
    {
     "data": {
      "text/plain": [
       "(2, 3, 3)"
      ]
     },
     "execution_count": 25,
     "metadata": {},
     "output_type": "execute_result"
    }
   ],
   "source": [
    "a3.shape"
   ]
  },
  {
   "cell_type": "code",
   "execution_count": 30,
   "metadata": {},
   "outputs": [
    {
     "data": {
      "text/plain": [
       "array([[[6],\n",
       "        [9]]])"
      ]
     },
     "execution_count": 30,
     "metadata": {},
     "output_type": "execute_result"
    }
   ],
   "source": [
    "a3[:1, 1:3, 2: ]"
   ]
  },
  {
   "cell_type": "code",
   "execution_count": 31,
   "metadata": {},
   "outputs": [],
   "source": [
    "a1 = np.random.randint(10, size = (3,5,5,5))"
   ]
  },
  {
   "cell_type": "code",
   "execution_count": 32,
   "metadata": {},
   "outputs": [
    {
     "data": {
      "text/plain": [
       "array([[[[4, 9, 9, 6, 5],\n",
       "         [1, 6, 7, 8, 3],\n",
       "         [7, 5, 5, 9, 0],\n",
       "         [7, 6, 3, 9, 0],\n",
       "         [9, 2, 9, 4, 1]],\n",
       "\n",
       "        [[4, 5, 8, 7, 2],\n",
       "         [8, 8, 1, 0, 8],\n",
       "         [9, 1, 8, 4, 5],\n",
       "         [3, 4, 7, 4, 6],\n",
       "         [5, 1, 5, 1, 5]],\n",
       "\n",
       "        [[4, 7, 2, 4, 6],\n",
       "         [9, 8, 9, 0, 1],\n",
       "         [0, 1, 1, 5, 5],\n",
       "         [1, 2, 0, 7, 2],\n",
       "         [9, 6, 9, 0, 5]],\n",
       "\n",
       "        [[1, 0, 8, 7, 2],\n",
       "         [3, 3, 7, 6, 4],\n",
       "         [3, 7, 8, 5, 7],\n",
       "         [0, 8, 9, 1, 2],\n",
       "         [3, 9, 9, 9, 3]],\n",
       "\n",
       "        [[6, 2, 3, 4, 5],\n",
       "         [3, 7, 1, 5, 4],\n",
       "         [2, 3, 7, 4, 9],\n",
       "         [2, 3, 7, 8, 8],\n",
       "         [3, 4, 3, 3, 0]]],\n",
       "\n",
       "\n",
       "       [[[9, 5, 9, 1, 8],\n",
       "         [6, 2, 4, 4, 0],\n",
       "         [7, 1, 2, 5, 3],\n",
       "         [3, 3, 7, 9, 9],\n",
       "         [7, 6, 2, 3, 1]],\n",
       "\n",
       "        [[9, 5, 5, 8, 7],\n",
       "         [4, 9, 8, 8, 6],\n",
       "         [9, 7, 8, 0, 1],\n",
       "         [7, 5, 0, 2, 4],\n",
       "         [0, 6, 7, 4, 5]],\n",
       "\n",
       "        [[8, 0, 3, 0, 0],\n",
       "         [4, 4, 6, 3, 0],\n",
       "         [7, 7, 0, 2, 7],\n",
       "         [5, 8, 7, 9, 8],\n",
       "         [1, 2, 0, 7, 2]],\n",
       "\n",
       "        [[7, 6, 7, 6, 3],\n",
       "         [6, 1, 9, 8, 0],\n",
       "         [4, 8, 6, 4, 1],\n",
       "         [6, 6, 3, 5, 8],\n",
       "         [8, 2, 2, 3, 4]],\n",
       "\n",
       "        [[3, 1, 0, 0, 4],\n",
       "         [0, 1, 6, 1, 7],\n",
       "         [8, 0, 5, 3, 7],\n",
       "         [2, 2, 3, 0, 0],\n",
       "         [8, 4, 5, 5, 6]]],\n",
       "\n",
       "\n",
       "       [[[6, 6, 1, 1, 2],\n",
       "         [2, 2, 7, 7, 9],\n",
       "         [2, 7, 4, 2, 4],\n",
       "         [5, 5, 3, 2, 8],\n",
       "         [1, 4, 6, 5, 4]],\n",
       "\n",
       "        [[4, 6, 8, 8, 7],\n",
       "         [2, 4, 0, 0, 1],\n",
       "         [1, 0, 9, 0, 0],\n",
       "         [2, 8, 4, 2, 4],\n",
       "         [9, 0, 0, 6, 3]],\n",
       "\n",
       "        [[1, 5, 6, 9, 5],\n",
       "         [5, 4, 3, 2, 4],\n",
       "         [2, 7, 6, 8, 4],\n",
       "         [6, 8, 7, 3, 8],\n",
       "         [6, 5, 2, 8, 5]],\n",
       "\n",
       "        [[8, 9, 7, 0, 4],\n",
       "         [1, 8, 5, 0, 3],\n",
       "         [1, 8, 1, 7, 9],\n",
       "         [3, 4, 3, 7, 6],\n",
       "         [0, 9, 2, 5, 9]],\n",
       "\n",
       "        [[1, 1, 8, 5, 0],\n",
       "         [8, 2, 6, 0, 0],\n",
       "         [6, 5, 5, 5, 7],\n",
       "         [0, 4, 1, 4, 2],\n",
       "         [5, 3, 9, 7, 6]]]])"
      ]
     },
     "execution_count": 32,
     "metadata": {},
     "output_type": "execute_result"
    }
   ],
   "source": [
    "a1"
   ]
  },
  {
   "cell_type": "code",
   "execution_count": 39,
   "metadata": {},
   "outputs": [
    {
     "data": {
      "text/plain": [
       "array([[[[8, 0, 3, 0, 0],\n",
       "         [4, 4, 6, 3, 0],\n",
       "         [7, 7, 0, 2, 7],\n",
       "         [5, 8, 7, 9, 8],\n",
       "         [1, 2, 0, 7, 2]],\n",
       "\n",
       "        [[7, 6, 7, 6, 3],\n",
       "         [6, 1, 9, 8, 0],\n",
       "         [4, 8, 6, 4, 1],\n",
       "         [6, 6, 3, 5, 8],\n",
       "         [8, 2, 2, 3, 4]],\n",
       "\n",
       "        [[3, 1, 0, 0, 4],\n",
       "         [0, 1, 6, 1, 7],\n",
       "         [8, 0, 5, 3, 7],\n",
       "         [2, 2, 3, 0, 0],\n",
       "         [8, 4, 5, 5, 6]]]])"
      ]
     },
     "execution_count": 39,
     "metadata": {},
     "output_type": "execute_result"
    }
   ],
   "source": [
    "a1[1:2, 2:5, 0:]"
   ]
  },
  {
   "cell_type": "code",
   "execution_count": 40,
   "metadata": {},
   "outputs": [
    {
     "data": {
      "text/plain": [
       "array([[[[0, 3],\n",
       "         [4, 6],\n",
       "         [7, 0],\n",
       "         [8, 7],\n",
       "         [2, 0]],\n",
       "\n",
       "        [[6, 7],\n",
       "         [1, 9],\n",
       "         [8, 6],\n",
       "         [6, 3],\n",
       "         [2, 2]],\n",
       "\n",
       "        [[1, 0],\n",
       "         [1, 6],\n",
       "         [0, 5],\n",
       "         [2, 3],\n",
       "         [4, 5]]]])"
      ]
     },
     "execution_count": 40,
     "metadata": {},
     "output_type": "execute_result"
    }
   ],
   "source": [
    "a1[1:2, 2:5, 0:, 1:3 ]"
   ]
  },
  {
   "cell_type": "code",
   "execution_count": 42,
   "metadata": {},
   "outputs": [
    {
     "data": {
      "text/plain": [
       "4"
      ]
     },
     "execution_count": 42,
     "metadata": {},
     "output_type": "execute_result"
    }
   ],
   "source": [
    "a1.ndim"
   ]
  },
  {
   "cell_type": "code",
   "execution_count": 43,
   "metadata": {},
   "outputs": [
    {
     "data": {
      "text/plain": [
       "4.482666666666667"
      ]
     },
     "execution_count": 43,
     "metadata": {},
     "output_type": "execute_result"
    }
   ],
   "source": [
    "a1.mean()"
   ]
  },
  {
   "cell_type": "code",
   "execution_count": 44,
   "metadata": {},
   "outputs": [
    {
     "data": {
      "text/plain": [
       "2.866653023223347"
      ]
     },
     "execution_count": 44,
     "metadata": {},
     "output_type": "execute_result"
    }
   ],
   "source": [
    "a1.std()"
   ]
  },
  {
   "cell_type": "code",
   "execution_count": 45,
   "metadata": {},
   "outputs": [
    {
     "data": {
      "text/plain": [
       "1681"
      ]
     },
     "execution_count": 45,
     "metadata": {},
     "output_type": "execute_result"
    }
   ],
   "source": [
    "a1.sum()"
   ]
  },
  {
   "cell_type": "code",
   "execution_count": 47,
   "metadata": {},
   "outputs": [
    {
     "data": {
      "image/png": "[encoded data removed]",
      "text/plain": [
       "<Figure size 432x288 with 1 Axes>"
      ]
     },
     "metadata": {},
     "output_type": "display_data"
    }
   ],
   "source": [
    "%matplotlib inline\n",
    "import matplotlib.pyplot as plt\n",
    "plt.hist(random3)\n",
    "plt.show()"
   ]
  },
  {
   "cell_type": "code",
   "execution_count": 12,
   "metadata": {},
   "outputs": [
    {
     "name": "stdout",
     "output_type": "stream",
     "text": [
      "[[0 9 1]\n",
      " [0 7 0]\n",
      " [2 3 9]\n",
      " [2 9 7]\n",
      " [8 3 0]] \n",
      "\n",
      "[[1 1 3 1 5 2 1 3 9 8]\n",
      " [8 6 8 5 3 5 8 7 2 9]\n",
      " [3 9 2 1 4 3 3 0 9 2]]\n"
     ]
    }
   ],
   "source": [
    "mat1 = np.random.randint(10, size=(5, 3))\n",
    "mat2 = np.random.randint(10, size=(5, 6))\n",
    "mat2 = mat2.reshape(3, 10)\n",
    "print(mat1, '\\n')\n",
    "print(mat2)"
   ]
  },
  {
   "cell_type": "code",
   "execution_count": 11,
   "metadata": {},
   "outputs": [
    {
     "ename": "ValueError",
     "evalue": "operands could not be broadcast together with shapes (5,3) (5,6) ",
     "output_type": "error",
     "traceback": [
      "\u001b[0;31m---------------------------------------------------------------------------\u001b[0m",
      "\u001b[0;31mValueError\u001b[0m                                Traceback (most recent call last)",
      "\u001b[0;32m<ipython-input-11-ad42cf247db4>\u001b[0m in \u001b[0;36m<module>\u001b[0;34m()\u001b[0m\n\u001b[0;32m----> 1\u001b[0;31m \u001b[0mmat1\u001b[0m \u001b[0;34m*\u001b[0m \u001b[0mmat2\u001b[0m \u001b[0;31m# element-wise multiplication!\u001b[0m\u001b[0;34m\u001b[0m\u001b[0;34m\u001b[0m\u001b[0m\n\u001b[0m",
      "\u001b[0;31mValueError\u001b[0m: operands could not be broadcast together with shapes (5,3) (5,6) "
     ]
    }
   ],
   "source": [
    "mat1 * mat2 # element-wise multiplication!"
   ]
  },
  {
   "cell_type": "code",
   "execution_count": 7,
   "metadata": {},
   "outputs": [
    {
     "data": {
      "text/plain": [
       "array([[ 6, 11,  9],\n",
       "       [11, 10,  7],\n",
       "       [ 4,  1,  6],\n",
       "       [ 9,  8,  1],\n",
       "       [ 6,  0,  8]])"
      ]
     },
     "execution_count": 7,
     "metadata": {},
     "output_type": "execute_result"
    }
   ],
   "source": [
    "# generating random no matrix but as the seed is  fixed hence the matrix elements are fixed and don't change \n",
    "# everytime we run this cell\n",
    "np.random.seed(seed = 69)\n",
    "rand1 = np.random.randint(15, size=(5, 3))\n",
    "rand1"
   ]
  },
  {
   "cell_type": "code",
   "execution_count": 14,
   "metadata": {},
   "outputs": [
    {
     "name": "stdout",
     "output_type": "stream",
     "text": [
      "CPU times: user 32 µs, sys: 24 µs, total: 56 µs\n",
      "Wall time: 65.3 µs\n"
     ]
    },
    {
     "data": {
      "text/plain": [
       "array([[ 75,  63,  74,  46,  31,  48,  75,  63,  27,  83],\n",
       "       [ 56,  42,  56,  35,  21,  35,  56,  49,  14,  63],\n",
       "       [ 53, 101,  48,  26,  55,  46,  53,  27, 105,  61],\n",
       "       [ 95, 119,  92,  54,  65,  70,  95,  69,  99, 111],\n",
       "       [ 32,  26,  48,  23,  49,  31,  32,  45,  78,  91]])"
      ]
     },
     "execution_count": 14,
     "metadata": {},
     "output_type": "execute_result"
    }
   ],
   "source": [
    "%time np.dot(mat1, mat2)"
   ]
  },
  {
   "cell_type": "markdown",
   "metadata": {},
   "source": [
    "# Exercise nut-butter-sales\n"
   ]
  },
  {
   "cell_type": "code",
   "execution_count": 15,
   "metadata": {},
   "outputs": [
    {
     "data": {
      "text/plain": [
       "array([[ 9, 12,  9],\n",
       "       [11, 14, 15],\n",
       "       [12,  0, 10],\n",
       "       [17,  7,  7],\n",
       "       [ 9,  1,  1]])"
      ]
     },
     "execution_count": 15,
     "metadata": {},
     "output_type": "execute_result"
    }
   ],
   "source": [
    "weeklySales = np.random.randint(20, size=(5,3))\n",
    "weeklySales"
   ]
  },
  {
   "cell_type": "code",
   "execution_count": 17,
   "metadata": {},
   "outputs": [],
   "source": [
    "dataFrameWeeklySales = pd.DataFrame(weeklySales, index=['Mon', 'Tue', 'Wen', 'Thur', 'Fri'], \n",
    "                                    columns=['Almond Butter', 'Peanut Butter', 'Cashew Butter'])"
   ]
  },
  {
   "cell_type": "code",
   "execution_count": 18,
   "metadata": {},
   "outputs": [
    {
     "data": {
      "text/html": [
       "<div>\n",
       "<style scoped>\n",
       "    .dataframe tbody tr th:only-of-type {\n",
       "        vertical-align: middle;\n",
       "    }\n",
       "\n",
       "    .dataframe tbody tr th {\n",
       "        vertical-align: top;\n",
       "    }\n",
       "\n",
       "    .dataframe thead th {\n",
       "        text-align: right;\n",
       "    }\n",
       "</style>\n",
       "<table border=\"1\" class=\"dataframe\">\n",
       "  <thead>\n",
       "    <tr style=\"text-align: right;\">\n",
       "      <th></th>\n",
       "      <th>Almond Butter</th>\n",
       "      <th>Peanut Butter</th>\n",
       "      <th>Cashew Butter</th>\n",
       "    </tr>\n",
       "  </thead>\n",
       "  <tbody>\n",
       "    <tr>\n",
       "      <th>Mon</th>\n",
       "      <td>9</td>\n",
       "      <td>12</td>\n",
       "      <td>9</td>\n",
       "    </tr>\n",
       "    <tr>\n",
       "      <th>Tue</th>\n",
       "      <td>11</td>\n",
       "      <td>14</td>\n",
       "      <td>15</td>\n",
       "    </tr>\n",
       "    <tr>\n",
       "      <th>Wen</th>\n",
       "      <td>12</td>\n",
       "      <td>0</td>\n",
       "      <td>10</td>\n",
       "    </tr>\n",
       "    <tr>\n",
       "      <th>Thur</th>\n",
       "      <td>17</td>\n",
       "      <td>7</td>\n",
       "      <td>7</td>\n",
       "    </tr>\n",
       "    <tr>\n",
       "      <th>Fri</th>\n",
       "      <td>9</td>\n",
       "      <td>1</td>\n",
       "      <td>1</td>\n",
       "    </tr>\n",
       "  </tbody>\n",
       "</table>\n",
       "</div>"
      ],
      "text/plain": [
       "      Almond Butter  Peanut Butter  Cashew Butter\n",
       "Mon               9             12              9\n",
       "Tue              11             14             15\n",
       "Wen              12              0             10\n",
       "Thur             17              7              7\n",
       "Fri               9              1              1"
      ]
     },
     "execution_count": 18,
     "metadata": {},
     "output_type": "execute_result"
    }
   ],
   "source": [
    "dataFrameWeeklySales"
   ]
  },
  {
   "cell_type": "code",
   "execution_count": 28,
   "metadata": {},
   "outputs": [
    {
     "data": {
      "text/plain": [
       "(3,)"
      ]
     },
     "execution_count": 28,
     "metadata": {},
     "output_type": "execute_result"
    }
   ],
   "source": [
    "priceArray = np.array([10, 8, 12])\n",
    "priceArray = priceArray.T\n",
    "priceArray.shape"
   ]
  },
  {
   "cell_type": "code",
   "execution_count": 31,
   "metadata": {},
   "outputs": [
    {
     "data": {
      "text/html": [
       "<div>\n",
       "<style scoped>\n",
       "    .dataframe tbody tr th:only-of-type {\n",
       "        vertical-align: middle;\n",
       "    }\n",
       "\n",
       "    .dataframe tbody tr th {\n",
       "        vertical-align: top;\n",
       "    }\n",
       "\n",
       "    .dataframe thead th {\n",
       "        text-align: right;\n",
       "    }\n",
       "</style>\n",
       "<table border=\"1\" class=\"dataframe\">\n",
       "  <thead>\n",
       "    <tr style=\"text-align: right;\">\n",
       "      <th></th>\n",
       "      <th>Almond Butter</th>\n",
       "      <th>Peanut Butter</th>\n",
       "      <th>Cashew Butter</th>\n",
       "    </tr>\n",
       "  </thead>\n",
       "  <tbody>\n",
       "    <tr>\n",
       "      <th>Price</th>\n",
       "      <td>10</td>\n",
       "      <td>8</td>\n",
       "      <td>12</td>\n",
       "    </tr>\n",
       "  </tbody>\n",
       "</table>\n",
       "</div>"
      ],
      "text/plain": [
       "       Almond Butter  Peanut Butter  Cashew Butter\n",
       "Price             10              8             12"
      ]
     },
     "execution_count": 31,
     "metadata": {},
     "output_type": "execute_result"
    }
   ],
   "source": [
    "dataFramePrice = pd.DataFrame(priceArray.reshape(1,3), index = ['Price'],\n",
    "                              columns=['Almond Butter', 'Peanut Butter', 'Cashew Butter'])\n",
    "dataFramePrice"
   ]
  },
  {
   "cell_type": "code",
   "execution_count": 32,
   "metadata": {},
   "outputs": [
    {
     "data": {
      "text/plain": [
       "(1, 3)"
      ]
     },
     "execution_count": 32,
     "metadata": {},
     "output_type": "execute_result"
    }
   ],
   "source": [
    "dataFramePrice.shape"
   ]
  },
  {
   "cell_type": "code",
   "execution_count": 33,
   "metadata": {},
   "outputs": [
    {
     "data": {
      "text/plain": [
       "(5, 3)"
      ]
     },
     "execution_count": 33,
     "metadata": {},
     "output_type": "execute_result"
    }
   ],
   "source": [
    "dataFrameWeeklySales.shape\n"
   ]
  },
  {
   "cell_type": "code",
   "execution_count": 34,
   "metadata": {},
   "outputs": [],
   "source": [
    "totalSales = dataFrameWeeklySales.dot(dataFramePrice.T)"
   ]
  },
  {
   "cell_type": "code",
   "execution_count": 35,
   "metadata": {},
   "outputs": [
    {
     "data": {
      "text/html": [
       "<div>\n",
       "<style scoped>\n",
       "    .dataframe tbody tr th:only-of-type {\n",
       "        vertical-align: middle;\n",
       "    }\n",
       "\n",
       "    .dataframe tbody tr th {\n",
       "        vertical-align: top;\n",
       "    }\n",
       "\n",
       "    .dataframe thead th {\n",
       "        text-align: right;\n",
       "    }\n",
       "</style>\n",
       "<table border=\"1\" class=\"dataframe\">\n",
       "  <thead>\n",
       "    <tr style=\"text-align: right;\">\n",
       "      <th></th>\n",
       "      <th>Price</th>\n",
       "    </tr>\n",
       "  </thead>\n",
       "  <tbody>\n",
       "    <tr>\n",
       "      <th>Mon</th>\n",
       "      <td>294</td>\n",
       "    </tr>\n",
       "    <tr>\n",
       "      <th>Tue</th>\n",
       "      <td>402</td>\n",
       "    </tr>\n",
       "    <tr>\n",
       "      <th>Wen</th>\n",
       "      <td>240</td>\n",
       "    </tr>\n",
       "    <tr>\n",
       "      <th>Thur</th>\n",
       "      <td>310</td>\n",
       "    </tr>\n",
       "    <tr>\n",
       "      <th>Fri</th>\n",
       "      <td>110</td>\n",
       "    </tr>\n",
       "  </tbody>\n",
       "</table>\n",
       "</div>"
      ],
      "text/plain": [
       "      Price\n",
       "Mon     294\n",
       "Tue     402\n",
       "Wen     240\n",
       "Thur    310\n",
       "Fri     110"
      ]
     },
     "execution_count": 35,
     "metadata": {},
     "output_type": "execute_result"
    }
   ],
   "source": [
    "totalSales"
   ]
  },
  {
   "cell_type": "code",
   "execution_count": 36,
   "metadata": {},
   "outputs": [],
   "source": [
    "dataFrameWeeklySales['Total Sales ($)'] = totalSales"
   ]
  },
  {
   "cell_type": "code",
   "execution_count": 37,
   "metadata": {},
   "outputs": [
    {
     "data": {
      "text/html": [
       "<div>\n",
       "<style scoped>\n",
       "    .dataframe tbody tr th:only-of-type {\n",
       "        vertical-align: middle;\n",
       "    }\n",
       "\n",
       "    .dataframe tbody tr th {\n",
       "        vertical-align: top;\n",
       "    }\n",
       "\n",
       "    .dataframe thead th {\n",
       "        text-align: right;\n",
       "    }\n",
       "</style>\n",
       "<table border=\"1\" class=\"dataframe\">\n",
       "  <thead>\n",
       "    <tr style=\"text-align: right;\">\n",
       "      <th></th>\n",
       "      <th>Almond Butter</th>\n",
       "      <th>Peanut Butter</th>\n",
       "      <th>Cashew Butter</th>\n",
       "      <th>Total Sales ($)</th>\n",
       "    </tr>\n",
       "  </thead>\n",
       "  <tbody>\n",
       "    <tr>\n",
       "      <th>Mon</th>\n",
       "      <td>9</td>\n",
       "      <td>12</td>\n",
       "      <td>9</td>\n",
       "      <td>294</td>\n",
       "    </tr>\n",
       "    <tr>\n",
       "      <th>Tue</th>\n",
       "      <td>11</td>\n",
       "      <td>14</td>\n",
       "      <td>15</td>\n",
       "      <td>402</td>\n",
       "    </tr>\n",
       "    <tr>\n",
       "      <th>Wen</th>\n",
       "      <td>12</td>\n",
       "      <td>0</td>\n",
       "      <td>10</td>\n",
       "      <td>240</td>\n",
       "    </tr>\n",
       "    <tr>\n",
       "      <th>Thur</th>\n",
       "      <td>17</td>\n",
       "      <td>7</td>\n",
       "      <td>7</td>\n",
       "      <td>310</td>\n",
       "    </tr>\n",
       "    <tr>\n",
       "      <th>Fri</th>\n",
       "      <td>9</td>\n",
       "      <td>1</td>\n",
       "      <td>1</td>\n",
       "      <td>110</td>\n",
       "    </tr>\n",
       "  </tbody>\n",
       "</table>\n",
       "</div>"
      ],
      "text/plain": [
       "      Almond Butter  Peanut Butter  Cashew Butter  Total Sales ($)\n",
       "Mon               9             12              9              294\n",
       "Tue              11             14             15              402\n",
       "Wen              12              0             10              240\n",
       "Thur             17              7              7              310\n",
       "Fri               9              1              1              110"
      ]
     },
     "execution_count": 37,
     "metadata": {},
     "output_type": "execute_result"
    }
   ],
   "source": [
    "dataFrameWeeklySales"
   ]
  },
  {
   "cell_type": "markdown",
   "metadata": {},
   "source": [
    "#### End of Exercise"
   ]
  }
 ],
 "metadata": {
  "kernelspec": {
   "display_name": "Machine Learning ZTM",
   "language": "python",
   "name": "machinelearningztm"
  },
  "language_info": {
   "codemirror_mode": {
    "name": "ipython",
    "version": 3
   },
   "file_extension": ".py",
   "mimetype": "text/x-python",
   "name": "python",
   "nbconvert_exporter": "python",
   "pygments_lexer": "ipython3",
   "version": "3.6.9"
  }
 },
 "nbformat": 4,
 "nbformat_minor": 2
}
